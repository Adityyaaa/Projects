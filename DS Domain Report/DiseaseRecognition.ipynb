{
 "cells": [
  {
   "cell_type": "markdown",
   "id": "c72f9415",
   "metadata": {},
   "source": [
    "# Importing Modules"
   ]
  },
  {
   "cell_type": "code",
   "execution_count": null,
   "id": "2b45c812",
   "metadata": {},
   "outputs": [],
   "source": [
    "import numpy as np\n",
    "import pandas as pd\n",
    "import seaborn as sns\n",
    "import matplotlib.pyplot as plt\n",
    "import sklearn"
   ]
  },
  {
   "cell_type": "markdown",
   "id": "1294cd77",
   "metadata": {},
   "source": [
    "# Importing Dataset"
   ]
  },
  {
   "cell_type": "code",
   "execution_count": null,
   "id": "199017b1",
   "metadata": {
    "scrolled": true
   },
   "outputs": [],
   "source": [
    "\n",
    "data = pd.read_csv(\"training.csv\")\n",
    "data.head(5)"
   ]
  },
  {
   "cell_type": "code",
   "execution_count": null,
   "id": "317d5229",
   "metadata": {},
   "outputs": [],
   "source": [
    "#no. of features\n",
    "data.columns"
   ]
  },
  {
   "cell_type": "code",
   "execution_count": null,
   "id": "8c080852",
   "metadata": {
    "scrolled": true
   },
   "outputs": [],
   "source": [
    "#dropping the column Unnamed: 133 as its unnecessary\n",
    "data = data.drop(columns=\"Unnamed: 133\",axis = 0)\n",
    "data.columns"
   ]
  },
  {
   "cell_type": "code",
   "execution_count": null,
   "id": "d85bd3bd",
   "metadata": {
    "scrolled": false
   },
   "outputs": [],
   "source": [
    "data.describe()"
   ]
  },
  {
   "cell_type": "code",
   "execution_count": null,
   "id": "2a04c6b2",
   "metadata": {
    "scrolled": true
   },
   "outputs": [],
   "source": [
    "#labels from our dataset\n",
    "\n",
    "print(list(data[\"prognosis\"].unique()))\n",
    "print(data[\"prognosis\"].nunique())"
   ]
  },
  {
   "cell_type": "code",
   "execution_count": null,
   "id": "a27e0bb3",
   "metadata": {},
   "outputs": [],
   "source": [
    "data.shape"
   ]
  },
  {
   "cell_type": "markdown",
   "id": "bcc94227",
   "metadata": {},
   "source": [
    "# Data Preprocessing "
   ]
  },
  {
   "cell_type": "code",
   "execution_count": null,
   "id": "3ff5fbb7",
   "metadata": {
    "scrolled": true
   },
   "outputs": [],
   "source": [
    "#checking for missing values\n",
    "data.isnull().sum()"
   ]
  },
  {
   "cell_type": "code",
   "execution_count": null,
   "id": "ef258e3d",
   "metadata": {},
   "outputs": [],
   "source": [
    "#mapping categorical variables to numbers\n",
    "a = list(data[\"prognosis\"].unique())\n",
    "a\n",
    "mapped = dict()\n",
    "for i in range(len(a)):\n",
    "    mapped[a[i]] = i\n",
    "mapped"
   ]
  },
  {
   "cell_type": "code",
   "execution_count": null,
   "id": "d72c43d5",
   "metadata": {},
   "outputs": [],
   "source": [
    "data[\"prognosis\"] = data[\"prognosis\"].map(mapped)"
   ]
  },
  {
   "cell_type": "code",
   "execution_count": null,
   "id": "299e3f9c",
   "metadata": {},
   "outputs": [],
   "source": [
    "data"
   ]
  },
  {
   "cell_type": "code",
   "execution_count": null,
   "id": "c02fed7b",
   "metadata": {},
   "outputs": [],
   "source": [
    "from collections import defaultdict\n",
    "accuracy = defaultdict(list) #to map ml algorithms with their accuracies"
   ]
  },
  {
   "cell_type": "markdown",
   "id": "1a333027",
   "metadata": {},
   "source": [
    "# Data Visualisation"
   ]
  },
  {
   "cell_type": "code",
   "execution_count": null,
   "id": "c3fbf1a4",
   "metadata": {
    "scrolled": true
   },
   "outputs": [],
   "source": [
    "sns.histplot(x = \"itching\",data = data)"
   ]
  },
  {
   "cell_type": "code",
   "execution_count": null,
   "id": "8b64d679",
   "metadata": {},
   "outputs": [],
   "source": [
    "sns.heatmap(data= data,annot = True)"
   ]
  },
  {
   "cell_type": "markdown",
   "id": "7fe4e1fd",
   "metadata": {},
   "source": [
    "# Using Decision Tree "
   ]
  },
  {
   "cell_type": "code",
   "execution_count": null,
   "id": "c7b755d8",
   "metadata": {},
   "outputs": [],
   "source": [
    "X = data.iloc[:,:-1].values\n",
    "y = data['prognosis'].values\n",
    "X"
   ]
  },
  {
   "cell_type": "code",
   "execution_count": null,
   "id": "eb013e81",
   "metadata": {},
   "outputs": [],
   "source": [
    "from sklearn.model_selection import train_test_split\n",
    "X_train,X_test,y_train,y_test = train_test_split(X,y,test_size=0.2)\n",
    "X_train"
   ]
  },
  {
   "cell_type": "code",
   "execution_count": null,
   "id": "51fee4b5",
   "metadata": {},
   "outputs": [],
   "source": [
    "from sklearn.tree import DecisionTreeClassifier\n",
    "dt = DecisionTreeClassifier()\n",
    "model = dt.fit(X_train,y_train)\n",
    "model"
   ]
  },
  {
   "cell_type": "code",
   "execution_count": null,
   "id": "9bae128c",
   "metadata": {},
   "outputs": [],
   "source": [
    "y_pred = model.predict(X_test)\n",
    "y_pred"
   ]
  },
  {
   "cell_type": "code",
   "execution_count": null,
   "id": "207bdf4b",
   "metadata": {},
   "outputs": [],
   "source": [
    "from sklearn.metrics import classification_report,accuracy_score\n",
    "print(classification_report(y_test,y_pred))"
   ]
  },
  {
   "cell_type": "code",
   "execution_count": null,
   "id": "443b70c5",
   "metadata": {},
   "outputs": [],
   "source": [
    "datatest = pd.read_csv(\"testing.csv\")\n",
    "dtst = datatest.iloc[:,:-1].values\n",
    "resknown = datatest['prognosis'].values\n",
    "datatest.head()"
   ]
  },
  {
   "cell_type": "code",
   "execution_count": null,
   "id": "9db42d8b",
   "metadata": {
    "scrolled": true
   },
   "outputs": [],
   "source": [
    "result = model.predict(dtst)\n",
    "\n",
    "result"
   ]
  },
  {
   "cell_type": "code",
   "execution_count": null,
   "id": "b4a01618",
   "metadata": {},
   "outputs": [],
   "source": [
    "print(classification_report(y_test,result))"
   ]
  },
  {
   "cell_type": "code",
   "execution_count": null,
   "id": "fb781b53",
   "metadata": {},
   "outputs": [],
   "source": [
    "ac = accuracy_score(result,resknown)\n",
    "\n",
    "accuracy[\"decision tree\"] = ac\n",
    "ac"
   ]
  },
  {
   "cell_type": "markdown",
   "id": "32d568f3",
   "metadata": {},
   "source": [
    "# Using Random Forest"
   ]
  },
  {
   "cell_type": "code",
   "execution_count": null,
   "id": "dccf581b",
   "metadata": {},
   "outputs": [],
   "source": [
    "from sklearn.ensemble import RandomForestClassifier\n",
    "rf = RandomForestClassifier()\n",
    "model = rf.fit(X_train,y_train)\n",
    "y_pred = model.predict(X_test)\n",
    "y_pred"
   ]
  },
  {
   "cell_type": "code",
   "execution_count": null,
   "id": "65495108",
   "metadata": {},
   "outputs": [],
   "source": [
    "result = model.predict(dtst)\n",
    "ac = accuracy_score(result,resknown)\n",
    "accuracy[\"Random Forest\"] = ac\n",
    "ac"
   ]
  },
  {
   "cell_type": "markdown",
   "id": "b78a8581",
   "metadata": {},
   "source": [
    "# Using Naive Bayes Algorithm"
   ]
  },
  {
   "cell_type": "code",
   "execution_count": null,
   "id": "4fbe33f1",
   "metadata": {},
   "outputs": [],
   "source": [
    "from sklearn.naive_bayes import GaussianNB\n",
    "gs = GaussianNB()\n",
    "model= gs.fit(X_train,y_train)\n",
    "model"
   ]
  },
  {
   "cell_type": "code",
   "execution_count": null,
   "id": "a917978e",
   "metadata": {
    "scrolled": false
   },
   "outputs": [],
   "source": [
    "y_pred = model.predict(X_test)\n",
    "y_pred"
   ]
  },
  {
   "cell_type": "code",
   "execution_count": null,
   "id": "15b09773",
   "metadata": {},
   "outputs": [
    {
     "name": "stdout",
     "output_type": "stream",
     "text": [
      "                                         precision    recall  f1-score   support\n",
      "\n",
      "(vertigo) Paroymsal  Positional Vertigo       1.00      1.00      1.00        24\n",
      "                                   AIDS       1.00      1.00      1.00        22\n",
      "                                   Acne       1.00      1.00      1.00        22\n",
      "                    Alcoholic hepatitis       1.00      1.00      1.00        21\n",
      "                                Allergy       1.00      1.00      1.00        19\n",
      "                              Arthritis       1.00      1.00      1.00        22\n",
      "                       Bronchial Asthma       1.00      1.00      1.00        24\n",
      "                   Cervical spondylosis       1.00      1.00      1.00        28\n",
      "                            Chicken pox       1.00      1.00      1.00        21\n",
      "                    Chronic cholestasis       1.00      1.00      1.00        33\n",
      "                            Common Cold       1.00      1.00      1.00        25\n",
      "                                 Dengue       1.00      1.00      1.00        19\n",
      "                              Diabetes        1.00      1.00      1.00        23\n",
      "           Dimorphic hemmorhoids(piles)       1.00      1.00      1.00        29\n",
      "                          Drug Reaction       1.00      1.00      1.00        16\n",
      "                       Fungal infection       1.00      1.00      1.00        21\n",
      "                                   GERD       1.00      1.00      1.00        23\n",
      "                        Gastroenteritis       1.00      1.00      1.00        26\n",
      "                           Heart attack       1.00      1.00      1.00        20\n",
      "                            Hepatitis B       1.00      1.00      1.00        25\n",
      "                            Hepatitis C       1.00      1.00      1.00        25\n",
      "                            Hepatitis D       1.00      1.00      1.00        19\n",
      "                            Hepatitis E       1.00      1.00      1.00        25\n",
      "                          Hypertension        1.00      1.00      1.00        21\n",
      "                        Hyperthyroidism       1.00      1.00      1.00        21\n",
      "                           Hypoglycemia       1.00      1.00      1.00        23\n",
      "                         Hypothyroidism       1.00      1.00      1.00        22\n",
      "                               Impetigo       1.00      1.00      1.00        19\n",
      "                               Jaundice       1.00      1.00      1.00        31\n",
      "                                Malaria       1.00      1.00      1.00        31\n",
      "                               Migraine       1.00      1.00      1.00        27\n",
      "                        Osteoarthristis       1.00      1.00      1.00        26\n",
      "           Paralysis (brain hemorrhage)       1.00      1.00      1.00        23\n",
      "                    Peptic ulcer diseae       1.00      1.00      1.00        30\n",
      "                              Pneumonia       1.00      1.00      1.00        23\n",
      "                              Psoriasis       1.00      1.00      1.00        33\n",
      "                           Tuberculosis       1.00      1.00      1.00        32\n",
      "                                Typhoid       1.00      1.00      1.00        23\n",
      "                Urinary tract infection       1.00      1.00      1.00        21\n",
      "                         Varicose veins       1.00      1.00      1.00        24\n",
      "                            hepatitis A       1.00      1.00      1.00        22\n",
      "\n",
      "                               accuracy                           1.00       984\n",
      "                              macro avg       1.00      1.00      1.00       984\n",
      "                           weighted avg       1.00      1.00      1.00       984\n",
      "\n"
     ]
    }
   ],
   "source": [
    "print(classification_report(y_test,y_pred))"
   ]
  },
  {
   "cell_type": "code",
   "execution_count": null,
   "id": "faae7f48",
   "metadata": {},
   "outputs": [
    {
     "data": {
      "text/plain": [
       "1.0"
      ]
     },
     "execution_count": 124,
     "metadata": {},
     "output_type": "execute_result"
    }
   ],
   "source": [
    "from sklearn import metrics\n",
    "acc = metrics.accuracy_score(y_pred,y_test)\n",
    "acc"
   ]
  },
  {
   "cell_type": "code",
   "execution_count": null,
   "id": "9980cea5",
   "metadata": {},
   "outputs": [
    {
     "name": "stdout",
     "output_type": "stream",
     "text": [
      "[[24  0  0 ...  0  0  0]\n",
      " [ 0 22  0 ...  0  0  0]\n",
      " [ 0  0 22 ...  0  0  0]\n",
      " ...\n",
      " [ 0  0  0 ... 21  0  0]\n",
      " [ 0  0  0 ...  0 24  0]\n",
      " [ 0  0  0 ...  0  0 22]]\n"
     ]
    }
   ],
   "source": [
    "#printing the confusion matrics\n",
    "from sklearn.metrics import confusion_matrix\n",
    "con = metrics.confusion_matrix(y_pred,y_test)\n",
    "print(con)\n"
   ]
  },
  {
   "cell_type": "code",
   "execution_count": null,
   "id": "755c4f11",
   "metadata": {},
   "outputs": [
    {
     "name": "stdout",
     "output_type": "stream",
     "text": [
      "Correct Prediction 984\n",
      "Wrong Prediction 0\n",
      "Accuracy Score  1.0\n"
     ]
    }
   ],
   "source": [
    "#calculating the accuracy from confusion matrix\n",
    "a = con.shape\n",
    "correct_count=0\n",
    "false_count= 0\n",
    "\n",
    "for row in range(a[0]):\n",
    "    for col in range(a[1]):\n",
    "        if row==col:\n",
    "            correct_count+=con[row,col]\n",
    "        else:\n",
    "            false_count+=con[row,col]\n",
    "total_count = correct_count+false_count\n",
    "print(\"Correct Prediction\",correct_count)\n",
    "print(\"Wrong Prediction\",false_count)\n",
    "print(\"Accuracy Score \",correct_count/total_count)"
   ]
  },
  {
   "cell_type": "code",
   "execution_count": null,
   "id": "9cf0d9d9",
   "metadata": {},
   "outputs": [
    {
     "data": {
      "text/plain": [
       "array(['Fungal infection', 'Allergy', 'GERD', 'Chronic cholestasis',\n",
       "       'Drug Reaction', 'Peptic ulcer diseae', 'AIDS', 'Jaundice',\n",
       "       'Gastroenteritis', 'Bronchial Asthma', 'Hypertension ', 'Migraine',\n",
       "       'Cervical spondylosis', 'Paralysis (brain hemorrhage)', 'Jaundice',\n",
       "       'Malaria', 'Chicken pox', 'Typhoid', 'Typhoid', 'Hepatitis D',\n",
       "       'Hepatitis D', 'Hepatitis C', 'Hepatitis D', 'Hepatitis D',\n",
       "       'Alcoholic hepatitis', 'Hepatitis D', 'Typhoid',\n",
       "       'Bronchial Asthma', 'Dimorphic hemmorhoids(piles)', 'Heart attack',\n",
       "       'Varicose veins', 'Hepatitis D', 'Jaundice', 'Hepatitis D',\n",
       "       'Osteoarthristis', 'Arthritis',\n",
       "       '(vertigo) Paroymsal  Positional Vertigo', 'Acne',\n",
       "       'Urinary tract infection', 'Psoriasis', 'Impetigo', 'Jaundice'],\n",
       "      dtype='<U39')"
      ]
     },
     "execution_count": 127,
     "metadata": {},
     "output_type": "execute_result"
    }
   ],
   "source": [
    "result= model.predict(dtst)\n",
    "result\n",
    "\n"
   ]
  },
  {
   "cell_type": "code",
   "execution_count": null,
   "id": "ef756fa6",
   "metadata": {
    "scrolled": true
   },
   "outputs": [
    {
     "data": {
      "text/plain": [
       "0.7142857142857143"
      ]
     },
     "execution_count": 128,
     "metadata": {},
     "output_type": "execute_result"
    }
   ],
   "source": [
    "#finding accuracy of the test data\n",
    "ac = metrics.accuracy_score(resknown,result)\n",
    "accuracy[\"Naive Bayes\"] = ac\n",
    "ac"
   ]
  },
  {
   "cell_type": "markdown",
   "id": "4464ab06",
   "metadata": {},
   "source": [
    "# Using Support Vector Machine"
   ]
  },
  {
   "cell_type": "code",
   "execution_count": null,
   "id": "aa4d789b",
   "metadata": {},
   "outputs": [],
   "source": [
    "from sklearn.svm import SVC\n",
    "s = SVC()\n",
    "model = s.fit(X_train,y_train)\n",
    "y_pred = model.predict(X_test)"
   ]
  },
  {
   "cell_type": "code",
   "execution_count": null,
   "id": "e9640f9e",
   "metadata": {
    "scrolled": true
   },
   "outputs": [
    {
     "name": "stdout",
     "output_type": "stream",
     "text": [
      "                                         precision    recall  f1-score   support\n",
      "\n",
      "(vertigo) Paroymsal  Positional Vertigo       1.00      1.00      1.00        24\n",
      "                                   AIDS       1.00      1.00      1.00        22\n",
      "                                   Acne       1.00      1.00      1.00        22\n",
      "                    Alcoholic hepatitis       1.00      1.00      1.00        21\n",
      "                                Allergy       1.00      1.00      1.00        19\n",
      "                              Arthritis       1.00      1.00      1.00        22\n",
      "                       Bronchial Asthma       1.00      1.00      1.00        24\n",
      "                   Cervical spondylosis       1.00      1.00      1.00        28\n",
      "                            Chicken pox       1.00      1.00      1.00        21\n",
      "                    Chronic cholestasis       1.00      1.00      1.00        33\n",
      "                            Common Cold       1.00      1.00      1.00        25\n",
      "                                 Dengue       1.00      1.00      1.00        19\n",
      "                              Diabetes        1.00      1.00      1.00        23\n",
      "           Dimorphic hemmorhoids(piles)       1.00      1.00      1.00        29\n",
      "                          Drug Reaction       1.00      1.00      1.00        16\n",
      "                       Fungal infection       1.00      1.00      1.00        21\n",
      "                                   GERD       1.00      1.00      1.00        23\n",
      "                        Gastroenteritis       1.00      1.00      1.00        26\n",
      "                           Heart attack       1.00      1.00      1.00        20\n",
      "                            Hepatitis B       1.00      1.00      1.00        25\n",
      "                            Hepatitis C       1.00      1.00      1.00        25\n",
      "                            Hepatitis D       1.00      1.00      1.00        19\n",
      "                            Hepatitis E       1.00      1.00      1.00        25\n",
      "                          Hypertension        1.00      1.00      1.00        21\n",
      "                        Hyperthyroidism       1.00      1.00      1.00        21\n",
      "                           Hypoglycemia       1.00      1.00      1.00        23\n",
      "                         Hypothyroidism       1.00      1.00      1.00        22\n",
      "                               Impetigo       1.00      1.00      1.00        19\n",
      "                               Jaundice       1.00      1.00      1.00        31\n",
      "                                Malaria       1.00      1.00      1.00        31\n",
      "                               Migraine       1.00      1.00      1.00        27\n",
      "                        Osteoarthristis       1.00      1.00      1.00        26\n",
      "           Paralysis (brain hemorrhage)       1.00      1.00      1.00        23\n",
      "                    Peptic ulcer diseae       1.00      1.00      1.00        30\n",
      "                              Pneumonia       1.00      1.00      1.00        23\n",
      "                              Psoriasis       1.00      1.00      1.00        33\n",
      "                           Tuberculosis       1.00      1.00      1.00        32\n",
      "                                Typhoid       1.00      1.00      1.00        23\n",
      "                Urinary tract infection       1.00      1.00      1.00        21\n",
      "                         Varicose veins       1.00      1.00      1.00        24\n",
      "                            hepatitis A       1.00      1.00      1.00        22\n",
      "\n",
      "                               accuracy                           1.00       984\n",
      "                              macro avg       1.00      1.00      1.00       984\n",
      "                           weighted avg       1.00      1.00      1.00       984\n",
      "\n"
     ]
    }
   ],
   "source": [
    "print(classification_report(y_test,y_pred))"
   ]
  },
  {
   "cell_type": "code",
   "execution_count": null,
   "id": "34f6e987",
   "metadata": {},
   "outputs": [],
   "source": [
    "result = model.predict(dtst)\n",
    "ac = accuracy_score(resknown,result)\n",
    "ac\n",
    "accuracy[\"SVM\"] = ac"
   ]
  },
  {
   "cell_type": "code",
   "execution_count": null,
   "id": "acf4b427",
   "metadata": {},
   "outputs": [
    {
     "name": "stdout",
     "output_type": "stream",
     "text": [
      "defaultdict(<class 'list'>, {'Decision tree': 1.0, 'decision tree': 0.9761904761904762, 'Random Forest': 0.9761904761904762, 'Naive Bayes': 0.7142857142857143, 'SVM': 0.21428571428571427})\n"
     ]
    }
   ],
   "source": [
    "print(accuracy)"
   ]
  },
  {
   "cell_type": "code",
   "execution_count": null,
   "id": "15da18a7",
   "metadata": {},
   "outputs": [],
   "source": []
  }
 ],
 "metadata": {
  "kernelspec": {
   "display_name": "Python 3 (ipykernel)",
   "language": "python",
   "name": "python3"
  },
  "language_info": {
   "codemirror_mode": {
    "name": "ipython",
    "version": 3
   },
   "file_extension": ".py",
   "mimetype": "text/x-python",
   "name": "python",
   "nbconvert_exporter": "python",
   "pygments_lexer": "ipython3",
   "version": "3.9.12"
  }
 },
 "nbformat": 4,
 "nbformat_minor": 5
}
