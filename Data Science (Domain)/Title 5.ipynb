{
 "cells": [
  {
   "cell_type": "code",
   "execution_count": 1,
   "id": "59d94193",
   "metadata": {},
   "outputs": [],
   "source": [
    "import numpy as np"
   ]
  },
  {
   "cell_type": "code",
   "execution_count": 2,
   "id": "439be29d",
   "metadata": {},
   "outputs": [
    {
     "data": {
      "text/plain": [
       "array([2, 1, 0, 1, 2])"
      ]
     },
     "execution_count": 2,
     "metadata": {},
     "output_type": "execute_result"
    }
   ],
   "source": [
    "x = np.array([-2,-1,0,1,2])\n",
    "np.absolute(x)"
   ]
  },
  {
   "cell_type": "code",
   "execution_count": 4,
   "id": "25304f21",
   "metadata": {},
   "outputs": [
    {
     "data": {
      "text/plain": [
       "array([ 0., 10., 20., 30., 40.])"
      ]
     },
     "execution_count": 4,
     "metadata": {},
     "output_type": "execute_result"
    }
   ],
   "source": [
    "x = np.arange(5)\n",
    "y = np.empty(5)\n",
    "np.multiply(x, 10, out=y)"
   ]
  },
  {
   "cell_type": "code",
   "execution_count": 7,
   "id": "77d814e9",
   "metadata": {},
   "outputs": [
    {
     "name": "stdout",
     "output_type": "stream",
     "text": [
      "[[  1   2   3   4   5   6   7   8   9  10]\n",
      " [ 11  12  13  14  15  16  17  18  19  20]\n",
      " [ 21  22  23  24  25  26  27  28  29  30]\n",
      " [ 31  32  33  34  35  36  37  38  39  40]\n",
      " [ 41  42  43  44  45  46  47  48  49  50]\n",
      " [ 51  52  53  54  55  56  57  58  59  60]\n",
      " [ 61  62  63  64  65  66  67  68  69  70]\n",
      " [ 71  72  73  74  75  76  77  78  79  80]\n",
      " [ 81  82  83  84  85  86  87  88  89  90]\n",
      " [ 91  92  93  94  95  96  97  98  99 100]]\n"
     ]
    },
    {
     "data": {
      "text/plain": [
       "array([[ 2],\n",
       "       [12],\n",
       "       [22],\n",
       "       [32],\n",
       "       [42],\n",
       "       [52],\n",
       "       [62],\n",
       "       [72],\n",
       "       [82],\n",
       "       [92]])"
      ]
     },
     "execution_count": 7,
     "metadata": {},
     "output_type": "execute_result"
    }
   ],
   "source": [
    "x = np.arange(1,101).reshape(10,10)\n",
    "print(x)\n",
    "x[:,[1]]"
   ]
  },
  {
   "cell_type": "code",
   "execution_count": 8,
   "id": "a6de4c6d",
   "metadata": {},
   "outputs": [
    {
     "name": "stdout",
     "output_type": "stream",
     "text": [
      " Sum of Elements  470\n",
      " Product pf Elements  189267968\n",
      " Mean of Elements  47.0\n",
      " Standard deviation  28.722813232690143\n",
      " Minimum Value  2\n",
      " Maximum Value  92\n",
      " Median  47.0\n",
      " Any element are True:  True\n"
     ]
    }
   ],
   "source": [
    "print(\" Sum of Elements \", np.sum(x[:,[1]]))\n",
    "print(\" Product pf Elements \", np.prod(x[:,[1]]))\n",
    "print(\" Mean of Elements \",np.mean(x[:,[1]]))\n",
    "print(\" Standard deviation \",np.std(x[:,[1]]))\n",
    "print(\" Minimum Value \",np.min(x[:,[1]]))\n",
    "print(\" Maximum Value \",np.max(x[:,[1]]))\n",
    "print(\" Median \",np.median(x[:,[1]]))\n",
    "print(\" Any element are True: \",np.any(x[:,[1]]))"
   ]
  },
  {
   "cell_type": "code",
   "execution_count": 9,
   "id": "3c92d330",
   "metadata": {},
   "outputs": [
    {
     "data": {
      "text/plain": [
       "5.0"
      ]
     },
     "execution_count": 9,
     "metadata": {},
     "output_type": "execute_result"
    }
   ],
   "source": [
    "x = np.array([1,2,3,4,5,np.nan,6,7,8,9])\n",
    "np.nanmean(x)"
   ]
  },
  {
   "cell_type": "code",
   "execution_count": 18,
   "id": "bebe75c0",
   "metadata": {},
   "outputs": [],
   "source": [
    "def myufunc(x):\n",
    "    return x**2"
   ]
  },
  {
   "cell_type": "code",
   "execution_count": 19,
   "id": "4662d74d",
   "metadata": {},
   "outputs": [
    {
     "data": {
      "text/plain": [
       "array([1, 4, 9, 16, 25, 36, 49, 64, 81, 100], dtype=object)"
      ]
     },
     "execution_count": 19,
     "metadata": {},
     "output_type": "execute_result"
    }
   ],
   "source": [
    "x = np.arange(1,11)\n",
    "y = np.frompyfunc(myufunc,1,1)\n",
    "y(x)"
   ]
  },
  {
   "cell_type": "code",
   "execution_count": 13,
   "id": "f6941f84",
   "metadata": {},
   "outputs": [
    {
     "name": "stdout",
     "output_type": "stream",
     "text": [
      "[1 2 6 3 7 2 9 7 9 3]\n"
     ]
    }
   ],
   "source": [
    "x = np.random.randint(1,10,size=10)\n",
    "print(x)"
   ]
  },
  {
   "cell_type": "code",
   "execution_count": 15,
   "id": "702137d2",
   "metadata": {},
   "outputs": [
    {
     "data": {
      "text/plain": [
       "(array([6, 8], dtype=int64),)"
      ]
     },
     "execution_count": 15,
     "metadata": {},
     "output_type": "execute_result"
    }
   ],
   "source": [
    "np.where(x==9)"
   ]
  },
  {
   "cell_type": "code",
   "execution_count": 16,
   "id": "2431f6fe",
   "metadata": {},
   "outputs": [
    {
     "data": {
      "text/plain": [
       "(array([2, 4, 6, 7, 8], dtype=int64),)"
      ]
     },
     "execution_count": 16,
     "metadata": {},
     "output_type": "execute_result"
    }
   ],
   "source": [
    "np.where(x>4)"
   ]
  },
  {
   "cell_type": "code",
   "execution_count": 20,
   "id": "b6eda943",
   "metadata": {},
   "outputs": [
    {
     "data": {
      "text/plain": [
       "array([ 1,  2,  4,  5,  6,  8, 34, 45])"
      ]
     },
     "execution_count": 20,
     "metadata": {},
     "output_type": "execute_result"
    }
   ],
   "source": [
    "x = np.array([34,2,45,5,6,8,1,4])\n",
    "np.sort(x)"
   ]
  },
  {
   "cell_type": "code",
   "execution_count": 23,
   "id": "652a09f3",
   "metadata": {},
   "outputs": [
    {
     "data": {
      "text/plain": [
       "array([[85, 77, 16, 26],\n",
       "       [24, 93, 74, 21],\n",
       "       [50, 55, 18, 15],\n",
       "       [86, 16, 68, 93],\n",
       "       [87, 89, 91, 82],\n",
       "       [36, 71, 16, 77],\n",
       "       [47, 39, 60, 48],\n",
       "       [79, 22, 85, 57],\n",
       "       [91, 83, 16, 32],\n",
       "       [89, 67, 67, 18]])"
      ]
     },
     "execution_count": 23,
     "metadata": {},
     "output_type": "execute_result"
    }
   ],
   "source": [
    "data = np.random.randint(10,100,(10,4))\n",
    "data"
   ]
  },
  {
   "cell_type": "code",
   "execution_count": 24,
   "id": "5188c346",
   "metadata": {},
   "outputs": [
    {
     "data": {
      "text/plain": [
       "array([[24, 16, 16, 15],\n",
       "       [36, 22, 16, 18],\n",
       "       [47, 39, 16, 21],\n",
       "       [50, 55, 18, 26],\n",
       "       [79, 67, 60, 32],\n",
       "       [85, 71, 67, 48],\n",
       "       [86, 77, 68, 57],\n",
       "       [87, 83, 74, 77],\n",
       "       [89, 89, 85, 82],\n",
       "       [91, 93, 91, 93]])"
      ]
     },
     "execution_count": 24,
     "metadata": {},
     "output_type": "execute_result"
    }
   ],
   "source": [
    "np.sort(data,axis=0)"
   ]
  },
  {
   "cell_type": "code",
   "execution_count": 25,
   "id": "79e97e35",
   "metadata": {},
   "outputs": [
    {
     "data": {
      "text/plain": [
       "array([[16, 26, 77, 85],\n",
       "       [21, 24, 74, 93],\n",
       "       [15, 18, 50, 55],\n",
       "       [16, 68, 86, 93],\n",
       "       [82, 87, 89, 91],\n",
       "       [16, 36, 71, 77],\n",
       "       [39, 47, 48, 60],\n",
       "       [22, 57, 79, 85],\n",
       "       [16, 32, 83, 91],\n",
       "       [18, 67, 67, 89]])"
      ]
     },
     "execution_count": 25,
     "metadata": {},
     "output_type": "execute_result"
    }
   ],
   "source": [
    "np.sort(data,axis=1)"
   ]
  },
  {
   "cell_type": "code",
   "execution_count": 28,
   "id": "eaffc6cd",
   "metadata": {},
   "outputs": [
    {
     "data": {
      "text/plain": [
       "array([[16],\n",
       "       [22],\n",
       "       [39],\n",
       "       [55],\n",
       "       [67],\n",
       "       [71],\n",
       "       [77],\n",
       "       [83],\n",
       "       [89],\n",
       "       [93]])"
      ]
     },
     "execution_count": 28,
     "metadata": {},
     "output_type": "execute_result"
    }
   ],
   "source": [
    "np.sort(data[:,[1]],axis=0)"
   ]
  },
  {
   "cell_type": "code",
   "execution_count": 32,
   "id": "8f3275f6",
   "metadata": {},
   "outputs": [
    {
     "data": {
      "text/plain": [
       "array([1, 3, 4])"
      ]
     },
     "execution_count": 32,
     "metadata": {},
     "output_type": "execute_result"
    }
   ],
   "source": [
    "x = np.array([1,2,3,4,5])\n",
    "f = [True, False, True, True, False]\n",
    "x[f]"
   ]
  },
  {
   "cell_type": "code",
   "execution_count": 33,
   "id": "13dac904",
   "metadata": {},
   "outputs": [
    {
     "data": {
      "text/plain": [
       "array([1, 3, 5])"
      ]
     },
     "execution_count": 33,
     "metadata": {},
     "output_type": "execute_result"
    }
   ],
   "source": [
    "x = np.array([1,2,3,4,5,6])\n",
    "f = x%2==1\n",
    "x[f]"
   ]
  },
  {
   "cell_type": "code",
   "execution_count": 35,
   "id": "4cb7dece",
   "metadata": {},
   "outputs": [
    {
     "name": "stdout",
     "output_type": "stream",
     "text": [
      "[[1 2 3]\n",
      " [4 5 6]\n",
      " [7 8 9]]\n"
     ]
    }
   ],
   "source": [
    "#Transposing Array\n",
    "x = np.arange(1,10).reshape(3,3)\n",
    "print(x)"
   ]
  },
  {
   "cell_type": "code",
   "execution_count": 37,
   "id": "d204fd64",
   "metadata": {},
   "outputs": [
    {
     "data": {
      "text/plain": [
       "array([[1, 2],\n",
       "       [3, 4],\n",
       "       [5, 6]])"
      ]
     },
     "execution_count": 37,
     "metadata": {},
     "output_type": "execute_result"
    }
   ],
   "source": [
    "m = np.array([[1,2],[3,4],[5,6]])\n",
    "m"
   ]
  },
  {
   "cell_type": "code",
   "execution_count": 38,
   "id": "f581a056",
   "metadata": {},
   "outputs": [
    {
     "data": {
      "text/plain": [
       "array([[2, 4, 6],\n",
       "       [1, 3, 5]])"
      ]
     },
     "execution_count": 38,
     "metadata": {},
     "output_type": "execute_result"
    }
   ],
   "source": [
    "np.rot90(m)"
   ]
  },
  {
   "cell_type": "code",
   "execution_count": null,
   "id": "2bf26ffa",
   "metadata": {},
   "outputs": [],
   "source": []
  }
 ],
 "metadata": {
  "kernelspec": {
   "display_name": "Python 3 (ipykernel)",
   "language": "python",
   "name": "python3"
  },
  "language_info": {
   "codemirror_mode": {
    "name": "ipython",
    "version": 3
   },
   "file_extension": ".py",
   "mimetype": "text/x-python",
   "name": "python",
   "nbconvert_exporter": "python",
   "pygments_lexer": "ipython3",
   "version": "3.9.12"
  }
 },
 "nbformat": 4,
 "nbformat_minor": 5
}
