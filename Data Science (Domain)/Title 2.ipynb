{
 "cells": [
  {
   "cell_type": "code",
   "execution_count": 2,
   "id": "e198fe2b",
   "metadata": {},
   "outputs": [
    {
     "name": "stdout",
     "output_type": "stream",
     "text": [
      "12.2\n"
     ]
    }
   ],
   "source": [
    "x= 1.0\n",
    "my_variable=12.2\n",
    "print(my_variable)"
   ]
  },
  {
   "cell_type": "code",
   "execution_count": 3,
   "id": "efcf7d9f",
   "metadata": {},
   "outputs": [
    {
     "data": {
      "text/plain": [
       "float"
      ]
     },
     "execution_count": 3,
     "metadata": {},
     "output_type": "execute_result"
    }
   ],
   "source": [
    "#type(x)\n",
    "type(my_variable)"
   ]
  },
  {
   "cell_type": "code",
   "execution_count": 4,
   "id": "78a24ece",
   "metadata": {},
   "outputs": [
    {
     "name": "stdout",
     "output_type": "stream",
     "text": [
      "5\n",
      "3.2\n",
      "hello\n"
     ]
    }
   ],
   "source": [
    "a,b,c=5,3.2, \"hello\"\n",
    "\n",
    "print(a)\n",
    "print(b)\n",
    "print(c)"
   ]
  },
  {
   "cell_type": "code",
   "execution_count": 5,
   "id": "793e1fe9",
   "metadata": {},
   "outputs": [
    {
     "name": "stdout",
     "output_type": "stream",
     "text": [
      "same\n",
      "same\n",
      "same\n"
     ]
    }
   ],
   "source": [
    "x=y=z=\"same\"\n",
    "print(x)\n",
    "print(y)\n",
    "print(z)"
   ]
  },
  {
   "cell_type": "code",
   "execution_count": 6,
   "id": "8beb7ce0",
   "metadata": {},
   "outputs": [
    {
     "data": {
      "text/plain": [
       "bool"
      ]
     },
     "execution_count": 6,
     "metadata": {},
     "output_type": "execute_result"
    }
   ],
   "source": [
    "#boolean\n",
    "b1=True\n",
    "b2=False\n",
    "type(b1)"
   ]
  },
  {
   "cell_type": "code",
   "execution_count": 9,
   "id": "fb4450e6",
   "metadata": {},
   "outputs": [
    {
     "data": {
      "text/plain": [
       "False"
      ]
     },
     "execution_count": 9,
     "metadata": {},
     "output_type": "execute_result"
    }
   ],
   "source": [
    "x=1.0\n",
    "#check if the variable x is a float\n",
    "type(x) is int"
   ]
  },
  {
   "cell_type": "code",
   "execution_count": 21,
   "id": "a352100e",
   "metadata": {
    "scrolled": true
   },
   "outputs": [
    {
     "data": {
      "text/plain": [
       "complex"
      ]
     },
     "execution_count": 21,
     "metadata": {},
     "output_type": "execute_result"
    }
   ],
   "source": [
    "#complex number\n",
    "x=1.0-1.0j\n",
    "type(x)"
   ]
  },
  {
   "cell_type": "code",
   "execution_count": 48,
   "id": "39dcc8ec",
   "metadata": {},
   "outputs": [
    {
     "data": {
      "text/plain": [
       "True"
      ]
     },
     "execution_count": 48,
     "metadata": {},
     "output_type": "execute_result"
    }
   ],
   "source": [
    "x=1.0\n",
    "isinstance(x,float)"
   ]
  },
  {
   "cell_type": "code",
   "execution_count": 42,
   "id": "98928867",
   "metadata": {},
   "outputs": [
    {
     "data": {
      "text/plain": [
       "str"
      ]
     },
     "execution_count": 42,
     "metadata": {},
     "output_type": "execute_result"
    }
   ],
   "source": [
    "strings= \"This is Python\"\n",
    "char= \"C\"\n",
    "type(char)"
   ]
  },
  {
   "cell_type": "code",
   "execution_count": 49,
   "id": "cd004f7f",
   "metadata": {},
   "outputs": [
    {
     "data": {
      "text/plain": [
       "False"
      ]
     },
     "execution_count": 49,
     "metadata": {},
     "output_type": "execute_result"
    }
   ],
   "source": [
    "True and False"
   ]
  },
  {
   "cell_type": "code",
   "execution_count": 51,
   "id": "54239987",
   "metadata": {},
   "outputs": [
    {
     "name": "stdout",
     "output_type": "stream",
     "text": [
      "AND\n"
     ]
    }
   ],
   "source": [
    "print(\"AND\")"
   ]
  },
  {
   "cell_type": "code",
   "execution_count": 53,
   "id": "9bf6db4c",
   "metadata": {},
   "outputs": [
    {
     "name": "stdout",
     "output_type": "stream",
     "text": [
      "x and y is False\n",
      "x or y is 1.0\n",
      "not x is False\n"
     ]
    }
   ],
   "source": [
    "X=True\n",
    "y=False\n",
    "\n",
    "print('x and y is', x and y)\n",
    "print('x or y is', x or y)\n",
    "print('not x is', not x)"
   ]
  },
  {
   "cell_type": "code",
   "execution_count": 60,
   "id": "3f5e3e40",
   "metadata": {},
   "outputs": [
    {
     "data": {
      "text/plain": [
       "11"
      ]
     },
     "execution_count": 60,
     "metadata": {},
     "output_type": "execute_result"
    }
   ],
   "source": [
    "s=\"hello world\"\n",
    "#length of the string: the number of characters\n",
    "len(s)"
   ]
  },
  {
   "cell_type": "code",
   "execution_count": 62,
   "id": "1547f61d",
   "metadata": {},
   "outputs": [
    {
     "name": "stdout",
     "output_type": "stream",
     "text": [
      "hello test\n"
     ]
    }
   ],
   "source": [
    "#replace a substring in a string with something else \n",
    "s2= s.replace(\"world\", \"test\")\n",
    "print(s2)"
   ]
  },
  {
   "cell_type": "code",
   "execution_count": 63,
   "id": "bfb833a8",
   "metadata": {},
   "outputs": [
    {
     "data": {
      "text/plain": [
       "'h'"
      ]
     },
     "execution_count": 63,
     "metadata": {},
     "output_type": "execute_result"
    }
   ],
   "source": [
    "s[0]"
   ]
  },
  {
   "cell_type": "code",
   "execution_count": 64,
   "id": "3fed9a87",
   "metadata": {},
   "outputs": [
    {
     "data": {
      "text/plain": [
       "'hello'"
      ]
     },
     "execution_count": 64,
     "metadata": {},
     "output_type": "execute_result"
    }
   ],
   "source": [
    "s[0:5]"
   ]
  },
  {
   "cell_type": "code",
   "execution_count": 65,
   "id": "65e1837d",
   "metadata": {},
   "outputs": [
    {
     "data": {
      "text/plain": [
       "'o'"
      ]
     },
     "execution_count": 65,
     "metadata": {},
     "output_type": "execute_result"
    }
   ],
   "source": [
    "s[4:5]"
   ]
  },
  {
   "cell_type": "code",
   "execution_count": 66,
   "id": "fde357c0",
   "metadata": {},
   "outputs": [
    {
     "data": {
      "text/plain": [
       "'hello world'"
      ]
     },
     "execution_count": 66,
     "metadata": {},
     "output_type": "execute_result"
    }
   ],
   "source": [
    "s[:]"
   ]
  },
  {
   "cell_type": "code",
   "execution_count": 67,
   "id": "60687153",
   "metadata": {},
   "outputs": [
    {
     "data": {
      "text/plain": [
       "'hello'"
      ]
     },
     "execution_count": 67,
     "metadata": {},
     "output_type": "execute_result"
    }
   ],
   "source": [
    "s[:5]"
   ]
  },
  {
   "cell_type": "code",
   "execution_count": 68,
   "id": "621ee270",
   "metadata": {},
   "outputs": [
    {
     "data": {
      "text/plain": [
       "'world'"
      ]
     },
     "execution_count": 68,
     "metadata": {},
     "output_type": "execute_result"
    }
   ],
   "source": [
    "s[6:]"
   ]
  },
  {
   "cell_type": "code",
   "execution_count": 69,
   "id": "15af6697",
   "metadata": {},
   "outputs": [
    {
     "data": {
      "text/plain": [
       "'hlowrd'"
      ]
     },
     "execution_count": 69,
     "metadata": {},
     "output_type": "execute_result"
    }
   ],
   "source": [
    "s[::2]"
   ]
  },
  {
   "cell_type": "code",
   "execution_count": 70,
   "id": "b6f91df0",
   "metadata": {},
   "outputs": [
    {
     "name": "stdout",
     "output_type": "stream",
     "text": [
      "[]\n",
      "[1, 2, 3, 'example', 3.132]\n"
     ]
    }
   ],
   "source": [
    "my_list=[] #create my list\n",
    "print(my_list)\n",
    "my_list=[1,2,3,'example', 3.132] #create list with data\n",
    "print(my_list)"
   ]
  },
  {
   "cell_type": "code",
   "execution_count": 73,
   "id": "e307b61b",
   "metadata": {},
   "outputs": [
    {
     "name": "stdout",
     "output_type": "stream",
     "text": [
      "[1, 2, 3]\n",
      "[1, 2, 3, [555, 12]]\n",
      "[1, 2, 3, [555, 12], 32, 'hello']\n",
      "[1, 'insert_example', 2, 3, [555, 12], 32, 'hello']\n"
     ]
    }
   ],
   "source": [
    "my_list =[1,2,3]\n",
    "print(my_list)\n",
    "my_list.append([555,12])  #append as a single element\n",
    "print(my_list)\n",
    "my_list.extend([32, 'hello'])\n",
    "print(my_list)\n",
    "my_list.insert(1,'insert_example') #add element i\n",
    "print(my_list)"
   ]
  },
  {
   "cell_type": "code",
   "execution_count": 86,
   "id": "c958ddc2",
   "metadata": {},
   "outputs": [
    {
     "name": "stdout",
     "output_type": "stream",
     "text": [
      "[1, 2, 3, 'example', 3.132, 30]\n",
      "[1, 2, 3, 3.132, 30]\n",
      "Popped element:  2  List remaining: [1, 3, 3.132, 30]\n",
      "[]\n"
     ]
    }
   ],
   "source": [
    "my_list=[1,2,3,'example',3.132,10,30]\n",
    "del my_list[5] #delete element at index 5\n",
    "print(my_list)\n",
    "my_list.remove('example') #remove element with value\n",
    "print(my_list)\n",
    "a=my_list.pop(1)\n",
    "print('Popped element: ',a,' List remaining:',my_list)\n",
    "my_list.clear() #empty the list\n",
    "print(my_list)"
   ]
  }
 ],
 "metadata": {
  "kernelspec": {
   "display_name": "Python 3 (ipykernel)",
   "language": "python",
   "name": "python3"
  },
  "language_info": {
   "codemirror_mode": {
    "name": "ipython",
    "version": 3
   },
   "file_extension": ".py",
   "mimetype": "text/x-python",
   "name": "python",
   "nbconvert_exporter": "python",
   "pygments_lexer": "ipython3",
   "version": "3.9.12"
  }
 },
 "nbformat": 4,
 "nbformat_minor": 5
}
